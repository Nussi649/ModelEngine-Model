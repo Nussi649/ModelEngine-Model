{
 "cells": [
  {
   "cell_type": "code",
   "execution_count": 6,
   "metadata": {},
   "outputs": [],
   "source": [
    "import res_trans as rt"
   ]
  },
  {
   "cell_type": "code",
   "execution_count": 2,
   "metadata": {},
   "outputs": [],
   "source": [
    "meter = rt.Unit.create_reduced(\"Meter\")"
   ]
  },
  {
   "cell_type": "code",
   "execution_count": 7,
   "metadata": {},
   "outputs": [
    {
     "ename": "InvalidUsage",
     "evalue": "Direct Constructor usage forbidden. Use generator functions: create_reduced(key) create_full(**args) instead.",
     "output_type": "error",
     "traceback": [
      "\u001b[0;31m---------------------------------------------------------------------------\u001b[0m",
      "\u001b[0;31mInvalidUsage\u001b[0m                              Traceback (most recent call last)",
      "Cell \u001b[0;32mIn[7], line 1\u001b[0m\n\u001b[0;32m----> 1\u001b[0m val \u001b[39m=\u001b[39m rt\u001b[39m.\u001b[39;49mValue\u001b[39m.\u001b[39;49mcreate_full(\u001b[39m\"\u001b[39;49m\u001b[39mval1\u001b[39;49m\u001b[39m\"\u001b[39;49m, \u001b[39m1.5\u001b[39;49m, meter)\n",
      "File \u001b[0;32m~/workspace/ModelEngine-Model/model_code/res_trans.py:94\u001b[0m, in \u001b[0;36mcreate_full\u001b[0;34m(cls, identifier, value, unit, used_in)\u001b[0m\n\u001b[1;32m     92\u001b[0m \u001b[39mif\u001b[39;00m value \u001b[39mis\u001b[39;00m \u001b[39mNone\u001b[39;00m:\n\u001b[1;32m     93\u001b[0m     \u001b[39mraise\u001b[39;00m \u001b[39mValueError\u001b[39;00m(\u001b[39m'\u001b[39m\u001b[39mvalue is required\u001b[39m\u001b[39m'\u001b[39m)\n\u001b[0;32m---> 94\u001b[0m \u001b[39mif\u001b[39;00m unit \u001b[39mis\u001b[39;00m \u001b[39mNone\u001b[39;00m:\n\u001b[1;32m     95\u001b[0m     \u001b[39mraise\u001b[39;00m \u001b[39mValueError\u001b[39;00m(\u001b[39m'\u001b[39m\u001b[39munit is required\u001b[39m\u001b[39m'\u001b[39m)\n\u001b[1;32m     96\u001b[0m instance \u001b[39m=\u001b[39m \u001b[39mcls\u001b[39m(mini_mode\u001b[39m=\u001b[39m\u001b[39mFalse\u001b[39;00m, identifier\u001b[39m=\u001b[39midentifier,\n\u001b[1;32m     97\u001b[0m                value\u001b[39m=\u001b[39mvalue,\n\u001b[1;32m     98\u001b[0m                unit\u001b[39m=\u001b[39munit,\n\u001b[1;32m     99\u001b[0m                used_in\u001b[39m=\u001b[39mused_in)\n",
      "File \u001b[0;32m~/workspace/ModelEngine-Model/model_code/res_trans.py:83\u001b[0m, in \u001b[0;36mValue.__new__\u001b[0;34m(cls, *args, **kwargs)\u001b[0m\n\u001b[1;32m     82\u001b[0m \u001b[39mdef\u001b[39;00m \u001b[39m__new__\u001b[39m(\u001b[39mcls\u001b[39m, \u001b[39m*\u001b[39margs, \u001b[39m*\u001b[39m\u001b[39m*\u001b[39mkwargs):\n\u001b[0;32m---> 83\u001b[0m     \u001b[39mif\u001b[39;00m \u001b[39mcls\u001b[39m \u001b[39mis\u001b[39;00m \u001b[39mnot\u001b[39;00m Value:\n\u001b[1;32m     84\u001b[0m         \u001b[39mraise\u001b[39;00m InvalidUsage()\n\u001b[1;32m     85\u001b[0m     \u001b[39msuper\u001b[39m()\u001b[39m.\u001b[39m\u001b[39m__new__\u001b[39m(\u001b[39mcls\u001b[39m)\n",
      "\u001b[0;31mInvalidUsage\u001b[0m: Direct Constructor usage forbidden. Use generator functions: create_reduced(key) create_full(**args) instead."
     ]
    }
   ],
   "source": [
    "val = rt.Value.create_full(\"val1\", 1.5, meter)"
   ]
  }
 ],
 "metadata": {
  "kernelspec": {
   "display_name": "Python 3",
   "language": "python",
   "name": "python3"
  },
  "language_info": {
   "codemirror_mode": {
    "name": "ipython",
    "version": 3
   },
   "file_extension": ".py",
   "mimetype": "text/x-python",
   "name": "python",
   "nbconvert_exporter": "python",
   "pygments_lexer": "ipython3",
   "version": "3.10.12"
  },
  "orig_nbformat": 4
 },
 "nbformat": 4,
 "nbformat_minor": 2
}
